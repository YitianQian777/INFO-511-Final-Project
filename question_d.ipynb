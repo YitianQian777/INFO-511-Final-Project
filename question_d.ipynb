{
 "cells": [
  {
   "cell_type": "code",
   "execution_count": null,
   "metadata": {},
   "outputs": [],
   "source": [
    "# research question (d)\n",
    "# What makes or models have potential eligibility for the tax exemptions in the state of Washington?"
   ]
  }
 ],
 "metadata": {
  "language_info": {
   "name": "python"
  }
 },
 "nbformat": 4,
 "nbformat_minor": 2
}
