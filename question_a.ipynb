{
 "cells": [
  {
   "cell_type": "code",
   "execution_count": null,
   "metadata": {},
   "outputs": [],
   "source": [
    "# research question (a)\n",
    "# How does the population size of different types of electric vehicles in the state of Washington change, \n",
    "# including plug-in hybrid electric vehicles and battery electric vehicles?"
   ]
  }
 ],
 "metadata": {
  "language_info": {
   "name": "python"
  }
 },
 "nbformat": 4,
 "nbformat_minor": 2
}
