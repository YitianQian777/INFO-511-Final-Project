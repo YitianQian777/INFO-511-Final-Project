{
 "cells": [
  {
   "cell_type": "code",
   "execution_count": null,
   "metadata": {},
   "outputs": [],
   "source": [
    "# research question (c)\n",
    "# How does the electric vehicle population differ by counties in the state of Washington?"
   ]
  },
  {
   "cell_type": "code",
   "execution_count": 1,
   "metadata": {},
   "outputs": [
    {
     "name": "stdout",
     "output_type": "stream",
     "text": [
      "<class 'pandas.core.frame.DataFrame'>\n",
      "RangeIndex: 24873 entries, 0 to 24872\n",
      "Data columns (total 10 columns):\n",
      " #   Column                                    Non-Null Count  Dtype  \n",
      "---  ------                                    --------------  -----  \n",
      " 0   Date                                      24873 non-null  object \n",
      " 1   County                                    24777 non-null  object \n",
      " 2   State                                     24777 non-null  object \n",
      " 3   Vehicle Primary Use                       24873 non-null  object \n",
      " 4   Battery Electric Vehicles (BEVs)          24873 non-null  int64  \n",
      " 5   Plug-In Hybrid Electric Vehicles (PHEVs)  24873 non-null  int64  \n",
      " 6   Electric Vehicle (EV) Total               24873 non-null  int64  \n",
      " 7   Non-Electric Vehicle Total                24873 non-null  int64  \n",
      " 8   Total Vehicles                            24873 non-null  int64  \n",
      " 9   Percent Electric Vehicles                 24873 non-null  float64\n",
      "dtypes: float64(1), int64(5), object(4)\n",
      "memory usage: 1.9+ MB\n",
      "None\n"
     ]
    }
   ],
   "source": [
    "import pandas as pd\n",
    "\n",
    "ev_population_size_history_county = pd.read_csv(\"datasets/Electric_Vehicle_Population_Size_History_By_County.csv\")\n",
    "print(ev_population_size_history_county.info())"
   ]
  },
  {
   "cell_type": "code",
   "execution_count": 2,
   "metadata": {},
   "outputs": [
    {
     "name": "stdout",
     "output_type": "stream",
     "text": [
      "<class 'pandas.core.frame.DataFrame'>\n",
      "Index: 24777 entries, 0 to 24872\n",
      "Data columns (total 10 columns):\n",
      " #   Column                                    Non-Null Count  Dtype  \n",
      "---  ------                                    --------------  -----  \n",
      " 0   Date                                      24777 non-null  object \n",
      " 1   County                                    24777 non-null  object \n",
      " 2   State                                     24777 non-null  object \n",
      " 3   Vehicle Primary Use                       24777 non-null  object \n",
      " 4   Battery Electric Vehicles (BEVs)          24777 non-null  int64  \n",
      " 5   Plug-In Hybrid Electric Vehicles (PHEVs)  24777 non-null  int64  \n",
      " 6   Electric Vehicle (EV) Total               24777 non-null  int64  \n",
      " 7   Non-Electric Vehicle Total                24777 non-null  int64  \n",
      " 8   Total Vehicles                            24777 non-null  int64  \n",
      " 9   Percent Electric Vehicles                 24777 non-null  float64\n",
      "dtypes: float64(1), int64(5), object(4)\n",
      "memory usage: 2.1+ MB\n",
      "None\n"
     ]
    }
   ],
   "source": [
    "# deal with NA values for ev_population_size_history_county\n",
    "# remove the rows that have missing values\n",
    "ev_population_size_history_county = ev_population_size_history_county.dropna()\n",
    "\n",
    "print(ev_population_size_history_county.info())"
   ]
  },
  {
   "cell_type": "code",
   "execution_count": null,
   "metadata": {},
   "outputs": [],
   "source": [
    "# use plotly to plot choropleth maps\n",
    "# https://plotly.com/python/choropleth-maps/\n"
   ]
  }
 ],
 "metadata": {
  "kernelspec": {
   "display_name": "py38",
   "language": "python",
   "name": "python3"
  },
  "language_info": {
   "codemirror_mode": {
    "name": "ipython",
    "version": 3
   },
   "file_extension": ".py",
   "mimetype": "text/x-python",
   "name": "python",
   "nbconvert_exporter": "python",
   "pygments_lexer": "ipython3",
   "version": "3.12.4"
  }
 },
 "nbformat": 4,
 "nbformat_minor": 2
}
