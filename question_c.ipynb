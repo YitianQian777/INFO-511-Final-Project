{
 "cells": [
  {
   "cell_type": "code",
   "execution_count": null,
   "metadata": {},
   "outputs": [],
   "source": [
    "# research question (c)\n",
    "# How does the electric vehicle population differ by counties in the state of Washington?"
   ]
  },
  {
   "cell_type": "code",
   "execution_count": 1,
   "metadata": {},
   "outputs": [
    {
     "name": "stdout",
     "output_type": "stream",
     "text": [
      "<class 'pandas.core.frame.DataFrame'>\n",
      "RangeIndex: 24873 entries, 0 to 24872\n",
      "Data columns (total 10 columns):\n",
      " #   Column                                    Non-Null Count  Dtype  \n",
      "---  ------                                    --------------  -----  \n",
      " 0   Date                                      24873 non-null  object \n",
      " 1   County                                    24777 non-null  object \n",
      " 2   State                                     24777 non-null  object \n",
      " 3   Vehicle Primary Use                       24873 non-null  object \n",
      " 4   Battery Electric Vehicles (BEVs)          24873 non-null  int64  \n",
      " 5   Plug-In Hybrid Electric Vehicles (PHEVs)  24873 non-null  int64  \n",
      " 6   Electric Vehicle (EV) Total               24873 non-null  int64  \n",
      " 7   Non-Electric Vehicle Total                24873 non-null  int64  \n",
      " 8   Total Vehicles                            24873 non-null  int64  \n",
      " 9   Percent Electric Vehicles                 24873 non-null  float64\n",
      "dtypes: float64(1), int64(5), object(4)\n",
      "memory usage: 1.9+ MB\n",
      "None\n"
     ]
    }
   ],
   "source": [
    "import pandas as pd\n",
    "\n",
    "ev_population_size_history_county = pd.read_csv(\"datasets/Electric_Vehicle_Population_Size_History_By_County.csv\")\n",
    "print(ev_population_size_history_county.info())"
   ]
  },
  {
   "cell_type": "code",
   "execution_count": 2,
   "metadata": {},
   "outputs": [
    {
     "name": "stdout",
     "output_type": "stream",
     "text": [
      "<class 'pandas.core.frame.DataFrame'>\n",
      "Index: 24777 entries, 0 to 24872\n",
      "Data columns (total 10 columns):\n",
      " #   Column                                    Non-Null Count  Dtype  \n",
      "---  ------                                    --------------  -----  \n",
      " 0   Date                                      24777 non-null  object \n",
      " 1   County                                    24777 non-null  object \n",
      " 2   State                                     24777 non-null  object \n",
      " 3   Vehicle Primary Use                       24777 non-null  object \n",
      " 4   Battery Electric Vehicles (BEVs)          24777 non-null  int64  \n",
      " 5   Plug-In Hybrid Electric Vehicles (PHEVs)  24777 non-null  int64  \n",
      " 6   Electric Vehicle (EV) Total               24777 non-null  int64  \n",
      " 7   Non-Electric Vehicle Total                24777 non-null  int64  \n",
      " 8   Total Vehicles                            24777 non-null  int64  \n",
      " 9   Percent Electric Vehicles                 24777 non-null  float64\n",
      "dtypes: float64(1), int64(5), object(4)\n",
      "memory usage: 2.1+ MB\n",
      "None\n"
     ]
    }
   ],
   "source": [
    "# deal with NA values for ev_population_size_history_county\n",
    "# remove the rows that have missing values\n",
    "ev_population_size_history_county = ev_population_size_history_county.dropna()\n",
    "\n",
    "print(ev_population_size_history_county.info())"
   ]
  },
  {
   "cell_type": "code",
   "execution_count": 23,
   "metadata": {},
   "outputs": [
    {
     "name": "stdout",
     "output_type": "stream",
     "text": [
      "                 Date        County State Vehicle Primary Use  \\\n",
      "5    November 30 2023      Columbia    WA           Passenger   \n",
      "6   September 30 2020      Thurston    WA           Passenger   \n",
      "7     October 31 2021       Whitman    WA           Passenger   \n",
      "12   November 30 2023  Grays Harbor    WA           Passenger   \n",
      "13   December 31 2017         Adams    WA           Passenger   \n",
      "\n",
      "    Battery Electric Vehicles (BEVs)  \\\n",
      "5                                 12   \n",
      "6                               1209   \n",
      "7                                 63   \n",
      "12                               360   \n",
      "13                                 4   \n",
      "\n",
      "    Plug-In Hybrid Electric Vehicles (PHEVs)  Electric Vehicle (EV) Total  \\\n",
      "5                                          0                           12   \n",
      "6                                        749                         1958   \n",
      "7                                         58                          121   \n",
      "12                                       224                          584   \n",
      "13                                         5                            9   \n",
      "\n",
      "    Non-Electric Vehicle Total  Total Vehicles  Percent Electric Vehicles  \\\n",
      "5                         2414            2426                       0.49   \n",
      "6                       196960          198918                       0.98   \n",
      "7                        21874           21995                       0.55   \n",
      "12                       48074           48658                       1.20   \n",
      "13                       12401           12410                       0.07   \n",
      "\n",
      "    Year      Month  \n",
      "5   2023   November  \n",
      "6   2020  September  \n",
      "7   2021    October  \n",
      "12  2023   November  \n",
      "13  2017   December  \n"
     ]
    },
    {
     "name": "stderr",
     "output_type": "stream",
     "text": [
      "/var/folders/ny/jlprw1jn1cx2zw647r71ljlw0000gn/T/ipykernel_41971/145222302.py:5: SettingWithCopyWarning:\n",
      "\n",
      "\n",
      "A value is trying to be set on a copy of a slice from a DataFrame.\n",
      "Try using .loc[row_indexer,col_indexer] = value instead\n",
      "\n",
      "See the caveats in the documentation: https://pandas.pydata.org/pandas-docs/stable/user_guide/indexing.html#returning-a-view-versus-a-copy\n",
      "\n",
      "/var/folders/ny/jlprw1jn1cx2zw647r71ljlw0000gn/T/ipykernel_41971/145222302.py:6: SettingWithCopyWarning:\n",
      "\n",
      "\n",
      "A value is trying to be set on a copy of a slice from a DataFrame.\n",
      "Try using .loc[row_indexer,col_indexer] = value instead\n",
      "\n",
      "See the caveats in the documentation: https://pandas.pydata.org/pandas-docs/stable/user_guide/indexing.html#returning-a-view-versus-a-copy\n",
      "\n",
      "/var/folders/ny/jlprw1jn1cx2zw647r71ljlw0000gn/T/ipykernel_41971/145222302.py:9: SettingWithCopyWarning:\n",
      "\n",
      "\n",
      "A value is trying to be set on a copy of a slice from a DataFrame.\n",
      "Try using .loc[row_indexer,col_indexer] = value instead\n",
      "\n",
      "See the caveats in the documentation: https://pandas.pydata.org/pandas-docs/stable/user_guide/indexing.html#returning-a-view-versus-a-copy\n",
      "\n"
     ]
    }
   ],
   "source": [
    "# subset the rows with State = WA\n",
    "q3_WA_subset = ev_population_size_history_county[ev_population_size_history_county[\"State\"] == \"WA\"]\n",
    "\n",
    "# extract the last four letters from column Date and store as Year\n",
    "q3_WA_subset[\"Year\"] = q3_WA_subset[\"Date\"].str[-4:]\n",
    "q3_WA_subset[\"Year\"] = q3_WA_subset[\"Year\"].astype(int)\n",
    "\n",
    "# extract the letters before the first space from column Date and store as Month\n",
    "q3_WA_subset[\"Month\"] = q3_WA_subset[\"Date\"].str.split().str[0]\n",
    "\n",
    "# remove rows with Vehicle Primary Use = Truck\n",
    "q3_WA_subset = q3_WA_subset[q3_WA_subset[\"Vehicle Primary Use\"] != 'Truck']\n",
    "\n",
    "print(q3_WA_subset.head(5))"
   ]
  },
  {
   "cell_type": "code",
   "execution_count": 24,
   "metadata": {},
   "outputs": [
    {
     "name": "stdout",
     "output_type": "stream",
     "text": [
      "                 Date        County State Vehicle Primary Use  \\\n",
      "13   December 31 2017         Adams    WA           Passenger   \n",
      "43   December 31 2017  Grays Harbor    WA           Passenger   \n",
      "187  December 31 2019       Whatcom    WA           Passenger   \n",
      "313  December 31 2019      Okanogan    WA           Passenger   \n",
      "379  December 31 2021       Spokane    WA           Passenger   \n",
      "\n",
      "     Battery Electric Vehicles (BEVs)  \\\n",
      "13                                  4   \n",
      "43                                 42   \n",
      "187                               987   \n",
      "313                                30   \n",
      "379                              1307   \n",
      "\n",
      "     Plug-In Hybrid Electric Vehicles (PHEVs)  Electric Vehicle (EV) Total  \\\n",
      "13                                          5                            9   \n",
      "43                                         40                           82   \n",
      "187                                       475                         1462   \n",
      "313                                        29                           59   \n",
      "379                                       751                         2058   \n",
      "\n",
      "     Non-Electric Vehicle Total  Total Vehicles  Percent Electric Vehicles  \\\n",
      "13                        12401           12410                       0.07   \n",
      "43                        45812           45894                       0.18   \n",
      "187                      151602          153064                       0.96   \n",
      "313                       26228           26287                       0.22   \n",
      "379                      326796          328854                       0.63   \n",
      "\n",
      "     Year     Month  \n",
      "13   2017  December  \n",
      "43   2017  December  \n",
      "187  2019  December  \n",
      "313  2019  December  \n",
      "379  2021  December  \n"
     ]
    }
   ],
   "source": [
    "# subset the rows with December\n",
    "q3_WA_Dec_subset = q3_WA_subset[q3_WA_subset[\"Month\"] == \"December\"]\n",
    "\n",
    "print(q3_WA_Dec_subset.head(5))"
   ]
  },
  {
   "cell_type": "code",
   "execution_count": 25,
   "metadata": {},
   "outputs": [
    {
     "name": "stdout",
     "output_type": "stream",
     "text": [
      "                  Date        County State Vehicle Primary Use  \\\n",
      "13    December 31 2017         Adams    WA           Passenger   \n",
      "43    December 31 2017  Grays Harbor    WA           Passenger   \n",
      "2132  December 31 2017        Island    WA           Passenger   \n",
      "2493  December 31 2017      Garfield    WA           Passenger   \n",
      "2628  December 31 2017     Wahkiakum    WA           Passenger   \n",
      "\n",
      "      Battery Electric Vehicles (BEVs)  \\\n",
      "13                                   4   \n",
      "43                                  42   \n",
      "2132                               155   \n",
      "2493                                 1   \n",
      "2628                                 0   \n",
      "\n",
      "      Plug-In Hybrid Electric Vehicles (PHEVs)  Electric Vehicle (EV) Total  \\\n",
      "13                                           5                            9   \n",
      "43                                          40                           82   \n",
      "2132                                       165                          320   \n",
      "2493                                         0                            1   \n",
      "2628                                         2                            2   \n",
      "\n",
      "      Non-Electric Vehicle Total  Total Vehicles  Percent Electric Vehicles  \\\n",
      "13                         12401           12410                       0.07   \n",
      "43                         45812           45894                       0.18   \n",
      "2132                       61518           61838                       0.52   \n",
      "2493                        1323            1324                       0.08   \n",
      "2628                        2861            2863                       0.07   \n",
      "\n",
      "      Year     Month  \n",
      "13    2017  December  \n",
      "43    2017  December  \n",
      "2132  2017  December  \n",
      "2493  2017  December  \n",
      "2628  2017  December  \n"
     ]
    }
   ],
   "source": [
    "# subset Year = 2017\n",
    "q3_WA_Dec2017_subset = q3_WA_Dec_subset[q3_WA_Dec_subset[\"Year\"] == 2017]\n",
    "\n",
    "print(q3_WA_Dec2017_subset.head(5))"
   ]
  },
  {
   "cell_type": "code",
   "execution_count": null,
   "metadata": {},
   "outputs": [],
   "source": [
    "# use plotly to plot a choropleth map on WA map\n",
    "# https://plotly.com/python/choropleth-maps/\n",
    "import plotly.express as plex\n",
    "\n",
    "# the GeoJSON for Washington counties: "
   ]
  }
 ],
 "metadata": {
  "kernelspec": {
   "display_name": "py38",
   "language": "python",
   "name": "python3"
  },
  "language_info": {
   "codemirror_mode": {
    "name": "ipython",
    "version": 3
   },
   "file_extension": ".py",
   "mimetype": "text/x-python",
   "name": "python",
   "nbconvert_exporter": "python",
   "pygments_lexer": "ipython3",
   "version": "3.12.4"
  }
 },
 "nbformat": 4,
 "nbformat_minor": 2
}
